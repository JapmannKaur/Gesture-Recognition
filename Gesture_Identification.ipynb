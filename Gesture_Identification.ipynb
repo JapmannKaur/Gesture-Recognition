{
  "nbformat": 4,
  "nbformat_minor": 0,
  "metadata": {
    "colab": {
      "provenance": []
    },
    "kernelspec": {
      "name": "python3",
      "display_name": "Python 3"
    },
    "language_info": {
      "name": "python"
    }
  },
  "cells": [
    {
      "cell_type": "code",
      "execution_count": null,
      "metadata": {
        "id": "1hO1XyRsFkQw"
      },
      "outputs": [],
      "source": [
        "# Importing Libraries\n",
        "import cv2\n",
        "import mediapipe as mp\n",
        "import pandas as pd\n",
        "import os\n",
        "import warnings\n",
        "from sklearn import preprocessing\n",
        "from sklearn.model_selection import train_test_split\n",
        "from sklearn.metrics import classification_report\n",
        "from sklearn.svm import SVC\n",
        "from sklearn.naive_bayes import GaussianNB\n",
        "from sklearn.linear_model import SGDClassifier\n",
        "from sklearn.neighbors import KNeighborsClassifier\n",
        "from sklearn.tree import DecisionTreeClassifier\n",
        "from sklearn.linear_model import LogisticRegression\n",
        "from sklearn.ensemble import RandomForestClassifier\n",
        "mp_drawing = mp.solutions.drawing_utils\n",
        "mp_drawing_styles = mp.solutions.drawing_styles\n",
        "mp_hands = mp.solutions.hands\n",
        "warnings.filterwarnings(\"ignore\")\n",
        "from IPython.display import display, Javascript\n",
        "from google.colab.patches import cv2_imshow\n",
        "from google.colab.output import eval_js\n",
        "from base64 import b64decode"
      ]
    },
    {
      "cell_type": "code",
      "source": [
        "# Feature Extraction\n",
        "tab_features = []\n",
        "tab_label = []\n",
        "#directory = '../ML JComp/train/train'\n",
        "directory = '/content/drive/MyDrive/ML JComp/train'\n",
        "for folder in os.listdir(directory):\n",
        "    f = os.path.join(directory, folder)\n",
        "    for file in os.listdir(f):\n",
        "        sample_img = cv2.imread(os.path.join(f, file))\n",
        "        with mp_hands.Hands(static_image_mode=True, max_num_hands=2, min_detection_confidence=0.5) as hands:\n",
        "            #print(sample_img.shape)\n",
        "            results = hands.process(cv2.cvtColor(sample_img, cv2.COLOR_BGR2RGB))\n",
        "            image = cv2.imread(os.path.join(f, file))\n",
        "            image_height, image_width, _ = image.shape\n",
        "            if results.multi_hand_landmarks:\n",
        "                x, y, z, label = [], [], [], []\n",
        "                for hand_no, hand_landmarks in enumerate(results.multi_hand_landmarks):\n",
        "                    for i in range(21):\n",
        "                        x.append(hand_landmarks.landmark[mp_hands.HandLandmark(\n",
        "                            i).value].x * image_width - hand_landmarks.landmark[mp_hands.HandLandmark(0).value].x * image_width)\n",
        "                        y.append(hand_landmarks.landmark[mp_hands.HandLandmark(\n",
        "                            i).value].y * image_height - hand_landmarks.landmark[mp_hands.HandLandmark(0).value].y * image_height)\n",
        "                        z.append(hand_landmarks.landmark[mp_hands.HandLandmark(\n",
        "                            i).value].z * image_width - hand_landmarks.landmark[mp_hands.HandLandmark(0).value].z * image_width)\n",
        "                    col = x + y + z\n",
        "                tab_features.append(col)\n",
        "                tab_label.append(folder)"
      ],
      "metadata": {
        "id": "-5hxGmWcFozP"
      },
      "execution_count": null,
      "outputs": []
    },
    {
      "cell_type": "code",
      "source": [
        "df_features = pd.DataFrame(tab_features).iloc[:, :63]\n",
        "df_label = pd.DataFrame(tab_label)"
      ],
      "metadata": {
        "id": "V0227Mt3FqgX"
      },
      "execution_count": null,
      "outputs": []
    },
    {
      "cell_type": "code",
      "source": [
        "# Printing the Dataset\n",
        "print(df_features)"
      ],
      "metadata": {
        "id": "Ov4nCQSpFt8Z"
      },
      "execution_count": null,
      "outputs": []
    },
    {
      "cell_type": "code",
      "source": [
        "label_encoder = preprocessing.LabelEncoder()\n",
        "df_label = label_encoder.fit_transform(df_label)"
      ],
      "metadata": {
        "id": "rK0NR8NAFxYM"
      },
      "execution_count": null,
      "outputs": []
    },
    {
      "cell_type": "code",
      "source": [
        "# Train Test Split\n",
        "target = df_label\n",
        "features = df_features\n",
        "X_train, X_test, Y_train, Y_test = train_test_split(\n",
        "    features, target, test_size=0.2, random_state=10)"
      ],
      "metadata": {
        "id": "T84WOJKCF29u"
      },
      "execution_count": null,
      "outputs": []
    },
    {
      "cell_type": "code",
      "source": [
        "# Random Forest\n",
        "rf = RandomForestClassifier()\n",
        "rf.fit(X_train, Y_train)\n",
        "rf_pred = rf.predict(X_test)\n",
        "print(classification_report(rf_pred, Y_test))"
      ],
      "metadata": {
        "id": "2p0dhWrFF7Z2"
      },
      "execution_count": null,
      "outputs": []
    },
    {
      "cell_type": "code",
      "source": [
        "def take_photo(filename='photo.jpg', quality=0.8):\n",
        "  js = Javascript('''\n",
        "    async function takePhoto(quality) {\n",
        "      const div = document.createElement('div');\n",
        "      const capture = document.createElement('button');\n",
        "      capture.textContent = 'Capture';\n",
        "      div.appendChild(capture);\n",
        "\n",
        "      const video = document.createElement('video');\n",
        "      video.style.display = 'block';\n",
        "      const stream = await navigator.mediaDevices.getUserMedia({video: true});\n",
        "\n",
        "      document.body.appendChild(div);\n",
        "      div.appendChild(video);\n",
        "      video.srcObject = stream;\n",
        "      await video.play();\n",
        "\n",
        "      // Resize the output to fit the video element.\n",
        "      google.colab.output.setIframeHeight(document.documentElement.scrollHeight, true);\n",
        "\n",
        "      // Wait for Capture to be clicked.\n",
        "      await new Promise((resolve) => capture.onclick = resolve);\n",
        "\n",
        "      const canvas = document.createElement('canvas');\n",
        "      canvas.width = video.videoWidth;\n",
        "      canvas.height = video.videoHeight;\n",
        "      canvas.getContext('2d').drawImage(video, 0, 0);\n",
        "      stream.getVideoTracks()[0].stop();\n",
        "      div.remove();\n",
        "      return canvas.toDataURL('image/jpeg', quality);\n",
        "    }\n",
        "    ''')\n",
        "  display(js)\n",
        "  data = eval_js('takePhoto({})'.format(quality))\n",
        "  binary = b64decode(data.split(',')[1])\n",
        "  with open(filename, 'wb') as f:\n",
        "    f.write(binary)\n",
        "  return filename"
      ],
      "metadata": {
        "id": "EdpPFddTF8Ol"
      },
      "execution_count": null,
      "outputs": []
    },
    {
      "cell_type": "code",
      "source": [
        "# Function Call\n",
        "original_image = take_photo()\n",
        "img = cv2.imread(original_image)\n",
        "cv2_imshow(img)"
      ],
      "metadata": {
        "id": "MfVoiuD1GAOI"
      },
      "execution_count": null,
      "outputs": []
    },
    {
      "cell_type": "code",
      "source": [
        "test_tab_features = []\n",
        "with mp_hands.Hands(static_image_mode=True, max_num_hands=2, min_detection_confidence=0.5) as hands:\n",
        "    results = hands.process(cv2.cvtColor(\n",
        "        img, cv2.COLOR_BGR2RGB))\n",
        "    #image = cv2.imread(os.path.join(f, file))\n",
        "    image_height, image_width, _ = img.shape\n",
        "    if results.multi_hand_landmarks:\n",
        "        x, y, z, label = [], [], [], []\n",
        "        for hand_no, hand_landmarks in enumerate(results.multi_hand_landmarks):\n",
        "            for i in range(21):\n",
        "                x.append(hand_landmarks.landmark[mp_hands.HandLandmark(\n",
        "                    i).value].x * image_width - hand_landmarks.landmark[mp_hands.HandLandmark(0).value].x * image_width)\n",
        "                y.append(hand_landmarks.landmark[mp_hands.HandLandmark(\n",
        "                    i).value].y * image_height - hand_landmarks.landmark[mp_hands.HandLandmark(0).value].y * image_height)\n",
        "                z.append(hand_landmarks.landmark[mp_hands.HandLandmark(\n",
        "                    i).value].z * image_width - hand_landmarks.landmark[mp_hands.HandLandmark(0).value].z * image_width)\n",
        "            col = x + y + z\n",
        "        test_tab_features.append(col)"
      ],
      "metadata": {
        "id": "1oeIPy5iGFzA"
      },
      "execution_count": null,
      "outputs": []
    },
    {
      "cell_type": "code",
      "source": [
        "rf_pred = rf.predict(test_tab_features)"
      ],
      "metadata": {
        "id": "_HsJqVPAGIF9"
      },
      "execution_count": null,
      "outputs": []
    },
    {
      "cell_type": "code",
      "source": [
        "tested_gesture = label_encoder.inverse_transform(rf_pred)"
      ],
      "metadata": {
        "id": "h3uCWIBfGItb"
      },
      "execution_count": null,
      "outputs": []
    },
    {
      "cell_type": "code",
      "source": [
        "print(tested_gesture[0])"
      ],
      "metadata": {
        "id": "vwzk--WjGMTj"
      },
      "execution_count": null,
      "outputs": []
    }
  ]
}